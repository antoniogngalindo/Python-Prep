{
 "cells": [
  {
   "attachments": {},
   "cell_type": "markdown",
   "metadata": {},
   "source": [
    "## Funciones"
   ]
  },
  {
   "attachments": {},
   "cell_type": "markdown",
   "metadata": {},
   "source": [
    "1) Crear una función que reciba un número como parámetro y devuelva True si es primo y False si no lo es"
   ]
  },
  {
   "cell_type": "code",
   "execution_count": 51,
   "metadata": {},
   "outputs": [],
   "source": [
    "def es_primo (num):\n",
    "    if num > 0:\n",
    "        for div in range (2, num): #definido que div está entre 2 y el valor de la variable\n",
    "            if num%div == 0: #variable num será dividida desde 2 hasta que llegue a su valor\n",
    "                return False\n",
    "    return True        \n",
    "    \n",
    "    "
   ]
  },
  {
   "cell_type": "code",
   "execution_count": 52,
   "metadata": {},
   "outputs": [
    {
     "data": {
      "text/plain": [
       "True"
      ]
     },
     "execution_count": 52,
     "metadata": {},
     "output_type": "execute_result"
    }
   ],
   "source": [
    "es_primo(2)\n"
   ]
  },
  {
   "cell_type": "code",
   "execution_count": 53,
   "metadata": {},
   "outputs": [
    {
     "data": {
      "text/plain": [
       "False"
      ]
     },
     "execution_count": 53,
     "metadata": {},
     "output_type": "execute_result"
    }
   ],
   "source": [
    "es_primo(8)"
   ]
  },
  {
   "attachments": {},
   "cell_type": "markdown",
   "metadata": {},
   "source": [
    "2) Utilizando la función del punto 1, realizar otra función que reciba de parámetro una lista de números y devuelva sólo aquellos que son primos en otra lista"
   ]
  },
  {
   "cell_type": "code",
   "execution_count": 54,
   "metadata": {},
   "outputs": [],
   "source": [
    "def primosenlista (lista):\n",
    "    primos = []\n",
    "    for num in lista:\n",
    "        if es_primo(num):\n",
    "            primos.append(num)\n",
    "    return primos"
   ]
  },
  {
   "cell_type": "code",
   "execution_count": 55,
   "metadata": {},
   "outputs": [
    {
     "name": "stdout",
     "output_type": "stream",
     "text": [
      "[0, 1, 2, 3, 4, 5, 6, 7, 8, 9, 10, 11, 12, 13, 14, 15, 16, 17, 18, 19]\n"
     ]
    }
   ],
   "source": [
    "lista1 = []\n",
    "for i in range (0, 20):\n",
    "    lista1.append(i)\n",
    "print (lista1)"
   ]
  },
  {
   "cell_type": "code",
   "execution_count": 56,
   "metadata": {},
   "outputs": [
    {
     "data": {
      "text/plain": [
       "[0, 1, 2, 3, 5, 7, 11, 13, 17, 19]"
      ]
     },
     "execution_count": 56,
     "metadata": {},
     "output_type": "execute_result"
    }
   ],
   "source": [
    "primosenlista(lista1)\n"
   ]
  },
  {
   "attachments": {},
   "cell_type": "markdown",
   "metadata": {},
   "source": [
    "3) Crear una función que al recibir una lista de números, devuelva el que más se repite y cuántas veces lo hace. Si hay más de un \"más repetido\", que devuelva cualquiera"
   ]
  },
  {
   "cell_type": "code",
   "execution_count": 43,
   "metadata": {},
   "outputs": [],
   "source": [
    "def encontrar_mas_repetido(lista):\n",
    "    contador = {} #dicc vacio\n",
    "    for num in lista: #para cada elemento de la lista\n",
    "        if num in contador: #si el pertenence al dicc\n",
    "            contador[num] += 1 #el elemento se vuelve en clave y recibe un valor de +1\n",
    "        else:\n",
    "            contador[num] = 1 #sino el valor recibe 1\n",
    "\n",
    "    veces = max(contador.values()) #funcion max retorna mayor valor\n",
    "    moda = None #none = vacio\n",
    "    for num, repeticiones in contador.items(): # clave, valor\n",
    "        if repeticiones == veces: #verifica si el valor de cada clave es igual al valor encuentrado en la variable veces\n",
    "            moda = num #moda recibe el valor clave\n",
    "            break\n",
    "\n",
    "    return moda, veces\n",
    "\n"
   ]
  },
  {
   "cell_type": "code",
   "execution_count": 21,
   "metadata": {},
   "outputs": [
    {
     "name": "stdout",
     "output_type": "stream",
     "text": [
      "[1, 3, 5, 3, 2, 1, 5, 3, 5, 5, 8]\n"
     ]
    }
   ],
   "source": [
    "numeros = [1, 3, 5, 3, 2, 1, 5, 3, 5, 5, 8]\n",
    "print (numeros)"
   ]
  },
  {
   "cell_type": "code",
   "execution_count": 44,
   "metadata": {},
   "outputs": [
    {
     "data": {
      "text/plain": [
       "(5, 4)"
      ]
     },
     "execution_count": 44,
     "metadata": {},
     "output_type": "execute_result"
    }
   ],
   "source": [
    "encontrar_mas_repetido(numeros)"
   ]
  },
  {
   "attachments": {},
   "cell_type": "markdown",
   "metadata": {},
   "source": [
    "4) Crear una función que convierta entre grados Celsius, Farenheit y Kelvin<br>\n",
    "Fórmula 1\t: (°C × 9/5) + 32 = °F<br>\n",
    "Fórmula 2\t: °C + 273.15 = °K<br>\n",
    "Debe recibir 3 parámetros: el valor, la medida de orígen y la medida de destino\n"
   ]
  },
  {
   "cell_type": "code",
   "execution_count": 44,
   "metadata": {},
   "outputs": [],
   "source": [
    "def conversion (valor, medida1, medida2):\n",
    "    if medida1 == '°C' and medida2 == '°F':\n",
    "        valorfinal = valor * 9/5 + 32\n",
    "        print (valor, medida1 , \"es igual a \", valorfinal, medida2)\n",
    "    elif medida1 == '°C' and medida2 == '°K':\n",
    "        valorfinal = valor + 273.15 \n",
    "        print(valor, medida1 , \"es igual a \", valorfinal, medida2)\n",
    "    elif medida1 == '°K' and medida2 == '°C':\n",
    "        valorfinal = valor - 273.15\n",
    "        print (valor, medida1 , \"es igual a \", valorfinal, medida2)\n",
    "    elif medida1 == '°F' and medida2 == '°C':\n",
    "        valorfinal = (valor -32) * 5/9\n",
    "        print (valor, medida1 , \"es igual a \", valorfinal, medida2)\n",
    "    elif medida1 == '°F' and medida2 == '°K':\n",
    "        valorfinal = (valor -32) * 5/9 + 273.15\n",
    "        print(valor, medida1 , \"es igual a \", valorfinal, medida2)\n",
    "    elif medida1 == '°K' and medida2 == '°F':\n",
    "        valorfinal = (valor - 273.15) * 9/5 + 32\n",
    "        print (valor, medida1 , \"es igual a \", valorfinal, medida2)\n",
    "    elif medida1 == medida2:\n",
    "        valorfinal = valor\n",
    "      \n",
    "        print (valor, medida1, \"---medida de origen y de destino iguales, no hay conversion\")\n",
    "    elif not isinstance (medida1, str):\n",
    "        print ('medida de origen no reconocida')\n",
    "    elif not isinstance(medida2, str):\n",
    "        print ('medida destino no reconocida')\n",
    "    return \n",
    "    "
   ]
  },
  {
   "cell_type": "code",
   "execution_count": 24,
   "metadata": {},
   "outputs": [
    {
     "name": "stdout",
     "output_type": "stream",
     "text": [
      "0 °C es igual a  273.15 °K\n"
     ]
    }
   ],
   "source": [
    "conversion(0, '°C', '°K')"
   ]
  },
  {
   "cell_type": "code",
   "execution_count": 25,
   "metadata": {},
   "outputs": [
    {
     "name": "stdout",
     "output_type": "stream",
     "text": [
      "medida de origen no reconocida\n"
     ]
    }
   ],
   "source": [
    "conversion(0, 0, '°K')"
   ]
  },
  {
   "cell_type": "code",
   "execution_count": 45,
   "metadata": {},
   "outputs": [
    {
     "name": "stdout",
     "output_type": "stream",
     "text": [
      "0 °C ---medida de origen y de destino iguales, no hay conversion\n"
     ]
    }
   ],
   "source": [
    "conversion(0, '°C', '°C')"
   ]
  },
  {
   "attachments": {},
   "cell_type": "markdown",
   "metadata": {},
   "source": [
    "5) Iterando una lista con los tres valores posibles de temperatura que recibe la función del punto 5, hacer un print para cada combinación de los mismos:"
   ]
  },
  {
   "cell_type": "code",
   "execution_count": 63,
   "metadata": {},
   "outputs": [
    {
     "name": "stdout",
     "output_type": "stream",
     "text": [
      "conversion °C para °C\n",
      "1 °C ---medida de origen y de destino iguales, no hay conversion\n",
      "\n",
      "conversion °C para °F\n",
      "1 °C es igual a  33.8 °F\n",
      "\n",
      "conversion °C para °K\n",
      "1 °C es igual a  274.15 °K\n",
      "\n",
      "conversion °F para °C\n",
      "1 °F es igual a  -17.22222222222222 °C\n",
      "\n",
      "conversion °F para °F\n",
      "1 °F ---medida de origen y de destino iguales, no hay conversion\n",
      "\n",
      "conversion °F para °K\n",
      "1 °F es igual a  255.92777777777775 °K\n",
      "\n",
      "conversion °K para °C\n",
      "1 °K es igual a  -272.15 °C\n",
      "\n",
      "conversion °K para °F\n",
      "1 °K es igual a  -457.87 °F\n",
      "\n",
      "conversion °K para °K\n",
      "1 °K ---medida de origen y de destino iguales, no hay conversion\n",
      "\n"
     ]
    }
   ],
   "source": [
    "temperatura = 1\n",
    "\n",
    "medidas = ['°C', '°F', '°K']\n",
    "\n",
    "for medida1 in medidas:\n",
    "    for medida2 in medidas:\n",
    "        print ('conversion', medida1, \"para\", medida2)\n",
    "        conversion(temperatura, medida1, medida2)\n",
    "        print()"
   ]
  },
  {
   "attachments": {},
   "cell_type": "markdown",
   "metadata": {},
   "source": [
    "6) Armar una función que devuelva el factorial de un número. Tener en cuenta que el usuario puede equivocarse y enviar de parámetro un número no entero o negativo"
   ]
  },
  {
   "cell_type": "code",
   "execution_count": 105,
   "metadata": {},
   "outputs": [],
   "source": [
    "def factorial(num):\n",
    "    if isinstance (num, int) and num>=1:\n",
    "        fact= num\n",
    "        while (num>2):\n",
    "            num-=1\n",
    "            fact *= num \n",
    "        print (fact)       \n",
    "    else:\n",
    "        print ('numero no está en los parametros')        \n",
    "    return"
   ]
  },
  {
   "cell_type": "code",
   "execution_count": 110,
   "metadata": {},
   "outputs": [
    {
     "name": "stdout",
     "output_type": "stream",
     "text": [
      "2432902008176640000\n"
     ]
    }
   ],
   "source": [
    "factorial(20)"
   ]
  },
  {
   "cell_type": "code",
   "execution_count": 112,
   "metadata": {},
   "outputs": [
    {
     "name": "stdout",
     "output_type": "stream",
     "text": [
      "numero no está en los parametros\n"
     ]
    }
   ],
   "source": [
    "factorial(0.5)"
   ]
  },
  {
   "cell_type": "code",
   "execution_count": 109,
   "metadata": {},
   "outputs": [
    {
     "name": "stdout",
     "output_type": "stream",
     "text": [
      "numero no está en los parametros\n"
     ]
    }
   ],
   "source": [
    "factorial(-5)"
   ]
  }
 ],
 "metadata": {
  "interpreter": {
   "hash": "c85384e4cb51c8b72350f3a8712cc8351fdc3955e32a27f9b60c6242ab125f01"
  },
  "kernelspec": {
   "display_name": "Python 3 (ipykernel)",
   "language": "python",
   "name": "python3"
  },
  "language_info": {
   "codemirror_mode": {
    "name": "ipython",
    "version": 3
   },
   "file_extension": ".py",
   "mimetype": "text/x-python",
   "name": "python",
   "nbconvert_exporter": "python",
   "pygments_lexer": "ipython3",
   "version": "3.11.5"
  }
 },
 "nbformat": 4,
 "nbformat_minor": 4
}
