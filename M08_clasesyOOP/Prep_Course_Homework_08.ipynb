{
 "cells": [
  {
   "attachments": {},
   "cell_type": "markdown",
   "metadata": {},
   "source": [
    "## Clases y Programación Orientada a Objetos"
   ]
  },
  {
   "attachments": {},
   "cell_type": "markdown",
   "metadata": {},
   "source": [
    "1) Crear la clase vehículo que contenga los atributos:<br>\n",
    "Color<br>\n",
    "Si es moto, auto, camioneta ó camión<br>\n",
    "Cilindrada del motor"
   ]
  },
  {
   "cell_type": "code",
   "execution_count": 267,
   "metadata": {},
   "outputs": [],
   "source": [
    "class Vehiculo:\n",
    "    def __init__(self, color, tipo, motor):\n",
    "        self.color = color\n",
    "        self.tipo = tipo\n",
    "        self.motor = motor\n",
    "\n",
    "    "
   ]
  },
  {
   "attachments": {},
   "cell_type": "markdown",
   "metadata": {},
   "source": [
    "2) A la clase Vehiculo creada en el punto 1, agregar los siguientes métodos:<br>\n",
    "Acelerar<br>\n",
    "Frenar<br>\n",
    "Doblar<br>"
   ]
  },
  {
   "cell_type": "code",
   "execution_count": 268,
   "metadata": {},
   "outputs": [],
   "source": [
    "class Vehiculo:\n",
    "    def __init__(self, color, tipo, motor, velocidad, direccion):\n",
    "        self.color = color\n",
    "        self.tipo = tipo\n",
    "        self.motor = motor\n",
    "        self.velocidad = velocidad\n",
    "        self.direccion = direccion\n",
    "\n",
    "    def acelerar(self, incremento):\n",
    "        if incremento> 0:\n",
    "            self.velocidad += incremento\n",
    "            print ('el vehiculo aceleró para ', self.velocidad, 'km')\n",
    "        else:\n",
    "            print ('no cambió la velocidad')\n",
    "\n",
    "    def frenar(self, decremento):\n",
    "        if decremento > 0:\n",
    "            self.velocidad -= decremento\n",
    "            print ('el vehiculo frenó para', self.velocidad, 'km')\n",
    "        else:\n",
    "            print ('no cambió la velocidad')\n",
    "\n",
    "\n",
    "    def doblar(self):\n",
    "        print ('el vehiculo dobló a la', self.direccion)\n",
    "        "
   ]
  },
  {
   "attachments": {},
   "cell_type": "markdown",
   "metadata": {},
   "source": [
    "3) Instanciar 3 objetos de la clase vehículo y ejecutar sus métodos, probar luego el resultado"
   ]
  },
  {
   "cell_type": "code",
   "execution_count": 269,
   "metadata": {},
   "outputs": [],
   "source": [
    "vehiculo_1 = Vehiculo('azul', 'moto', '500cc', 50, 'izquierda')\n",
    "vehiculo_2 = Vehiculo('negro', 'carro', '1500cc', 50, 'izquierda')\n",
    "vehiculo_3 = Vehiculo('rojo', 'camión', '3500cc', 50, 'derecha')"
   ]
  },
  {
   "cell_type": "code",
   "execution_count": 270,
   "metadata": {},
   "outputs": [
    {
     "name": "stdout",
     "output_type": "stream",
     "text": [
      "el vehiculo aceleró para  109 km\n",
      "el vehiculo frenó para 69 km\n",
      "el vehiculo dobló a la izquierda\n"
     ]
    }
   ],
   "source": [
    "vehiculo_1.acelerar(59)\n",
    "vehiculo_1.frenar(40)\n",
    "vehiculo_1.doblar()"
   ]
  },
  {
   "cell_type": "code",
   "execution_count": 271,
   "metadata": {},
   "outputs": [
    {
     "name": "stdout",
     "output_type": "stream",
     "text": [
      "no cambió la velocidad\n",
      "no cambió la velocidad\n",
      "el vehiculo dobló a la izquierda\n"
     ]
    }
   ],
   "source": [
    "vehiculo_2.acelerar(0)\n",
    "vehiculo_2.frenar(0)\n",
    "vehiculo_2.doblar()"
   ]
  },
  {
   "cell_type": "code",
   "execution_count": 272,
   "metadata": {},
   "outputs": [
    {
     "name": "stdout",
     "output_type": "stream",
     "text": [
      "el vehiculo aceleró para  55 km\n",
      "el vehiculo frenó para 52 km\n",
      "el vehiculo dobló a la derecha\n"
     ]
    }
   ],
   "source": [
    "vehiculo_3.acelerar(5)\n",
    "vehiculo_3.frenar(3)\n",
    "vehiculo_3.doblar()"
   ]
  },
  {
   "attachments": {},
   "cell_type": "markdown",
   "metadata": {},
   "source": [
    "4) Agregar a la clase Vehiculo, un método que muestre su estado, es decir, a que velocidad se encuentra y su dirección. Y otro método que muestre color, tipo y cilindrada"
   ]
  },
  {
   "cell_type": "code",
   "execution_count": 273,
   "metadata": {},
   "outputs": [],
   "source": [
    "class Vehiculo:\n",
    "    def __init__(self, color, tipo, motor, velocidad, direccion):\n",
    "        self.color = color\n",
    "        self.tipo = tipo\n",
    "        self.motor = motor\n",
    "        self.velocidad = velocidad\n",
    "        self.direccion = direccion\n",
    "\n",
    "    def acelerar(self, incremento):\n",
    "        if incremento> 0:\n",
    "            self.velocidad += incremento\n",
    "            print ('el vehiculo aceleró para ', self.velocidad, 'km')\n",
    "        else:\n",
    "            print ('no cambió la velocidad')\n",
    "\n",
    "    def frenar(self, decremento):\n",
    "        if decremento > 0:\n",
    "            self.velocidad -= decremento\n",
    "            print ('el vehiculo frenó para', self.velocidad, 'km')\n",
    "        else:\n",
    "            print ('no cambió la velocidad')\n",
    "\n",
    "    def doblar(self):\n",
    "        print ('el vehiculo dobló a la', self.direccion)\n",
    "\n",
    "    def estado(self):\n",
    "        print ('el vehiculo está a', self.velocidad, 'km y dobló a la', self.direccion)\n",
    "\n",
    "    def descricion (self):\n",
    "        return print('color:', self.color, 'tipo:', self.tipo, 'motor', self.motor)"
   ]
  },
  {
   "cell_type": "code",
   "execution_count": 274,
   "metadata": {},
   "outputs": [],
   "source": [
    "vehiculo_1 = Vehiculo('azul', 'moto', '500cc', 50, 'izquierda')\n",
    "vehiculo_2 = Vehiculo('negro', 'carro', '1500cc', 50, 'izquierda')\n",
    "vehiculo_3 = Vehiculo('rojo', 'camión', '3500cc', 50, 'derecha')"
   ]
  },
  {
   "cell_type": "code",
   "execution_count": 275,
   "metadata": {},
   "outputs": [
    {
     "name": "stdout",
     "output_type": "stream",
     "text": [
      "el vehiculo aceleró para  109 km\n",
      "el vehiculo frenó para 69 km\n",
      "el vehiculo dobló a la izquierda\n",
      "el vehiculo está a 69 km y dobló a la izquierda\n",
      "color: azul tipo: moto motor 500cc\n"
     ]
    }
   ],
   "source": [
    "vehiculo_1.acelerar(59)\n",
    "vehiculo_1.frenar(40)\n",
    "vehiculo_1.doblar()\n",
    "vehiculo_1.estado()\n",
    "vehiculo_1.descricion()"
   ]
  },
  {
   "attachments": {},
   "cell_type": "markdown",
   "metadata": {},
   "source": [
    "5) Crear una clase que permita utilizar las funciones creadas en la práctica del módulo 7<br>\n",
    "Verificar Primo<br>\n",
    "Valor modal<br>\n",
    "Conversión grados<br>\n",
    "Factorial<br>"
   ]
  },
  {
   "cell_type": "code",
   "execution_count": 276,
   "metadata": {},
   "outputs": [],
   "source": [
    "class Funciones:\n",
    "    def __init__(self):\n",
    "        pass\n",
    "\n",
    "    def primo (self, num):\n",
    "        if num > 0:\n",
    "            for div in range (2, num):\n",
    "                if num%div == 0:\n",
    "                    return False\n",
    "        else: \n",
    "            return False\n",
    "        return num, True        \n",
    "    \n",
    "    @staticmethod #porque no se acende a ningun atributo de instancia\n",
    "    def repeticion(lista):\n",
    "        contador = {}\n",
    "        \n",
    "        for num in lista: #para cada elemento de la lista\n",
    "            if num in contador: #si el pertenence al dicc\n",
    "                contador[num] += 1 #el elemento se vuelve en clave y recibe un valor de +1\n",
    "            else:\n",
    "                contador[num] = 1 #sino el valor recibe 1\n",
    "\n",
    "        veces = max(contador.values()) #funcion max retorna mayor valor\n",
    "        moda = None #none = vacio\n",
    "        for num, repeticiones in contador.items(): # clave, valor\n",
    "            if repeticiones == veces: #verifica si el valor de cada clave es igual al valor encuentrado en la variable veces\n",
    "                moda = num #moda recibe el valor clave\n",
    "                break\n",
    "       \n",
    "        return moda, veces\n",
    "    \n",
    "    def conversion (self, valor, medida1, medida2):\n",
    "        if medida1 == '°C' and medida2 == '°F':\n",
    "            valorfinal = valor * 9/5 + 32\n",
    "            print (valor, medida1 , \"es igual a \", valorfinal, medida2)\n",
    "        elif medida1 == '°C' and medida2 == '°K':\n",
    "            valorfinal = valor + 273.15 \n",
    "            print(valor, medida1 , \"es igual a \", valorfinal, medida2)\n",
    "        elif medida1 == '°K' and medida2 == '°C':\n",
    "            valorfinal = valor - 273.15\n",
    "            print (valor, medida1 , \"es igual a \", valorfinal, medida2)\n",
    "        elif medida1 == '°F' and medida2 == '°C':\n",
    "            valorfinal = (valor -32) * 5/9\n",
    "            print (valor, medida1 , \"es igual a \", valorfinal, medida2)\n",
    "        elif medida1 == '°F' and medida2 == '°K':\n",
    "            valorfinal = (valor -32) * 5/9 + 273.15\n",
    "            print(valor, medida1 , \"es igual a \", valorfinal, medida2)\n",
    "        elif medida1 == '°K' and medida2 == '°F':\n",
    "            valorfinal = (valor - 273.15) * 9/5 + 32\n",
    "            print (valor, medida1 , \"es igual a \", valorfinal, medida2)\n",
    "        elif medida1 == medida2:\n",
    "            valorfinal = valor\n",
    "        \n",
    "            print (valor, medida1, \"---medida de origen y de destino iguales, no hay conversion\")\n",
    "        elif not isinstance (medida1, str):\n",
    "            print ('medida de origen no reconocida')\n",
    "        elif not isinstance(medida2, str):\n",
    "            print ('medida destino no reconocida')\n",
    "        return \n",
    "    \n",
    "    def factorial(self, num):\n",
    "        if isinstance (num, int) and num>=1:\n",
    "            fact= num\n",
    "            while (num>2):\n",
    "                num-=1\n",
    "                fact *= num \n",
    "            print (fact)       \n",
    "        else:\n",
    "            print ('numero no está en los parametros')        \n",
    "        return             \n",
    "    "
   ]
  },
  {
   "attachments": {},
   "cell_type": "markdown",
   "metadata": {},
   "source": [
    "6) Probar las funciones incorporadas en la clase del punto 5"
   ]
  },
  {
   "cell_type": "code",
   "execution_count": 277,
   "metadata": {},
   "outputs": [],
   "source": [
    "prueba = Funciones()"
   ]
  },
  {
   "cell_type": "code",
   "execution_count": 278,
   "metadata": {},
   "outputs": [
    {
     "name": "stdout",
     "output_type": "stream",
     "text": [
      "(7, True)\n",
      "False\n",
      "False\n"
     ]
    }
   ],
   "source": [
    "print(prueba.primo(7))\n",
    "print(prueba.primo(4))\n",
    "print(prueba.primo(-1))"
   ]
  },
  {
   "cell_type": "code",
   "execution_count": 279,
   "metadata": {},
   "outputs": [
    {
     "name": "stdout",
     "output_type": "stream",
     "text": [
      "el numero 1 se repite 3 veces\n"
     ]
    }
   ],
   "source": [
    "listado=[1,1,1,2,4,4]\n",
    "moda, veces = prueba.repeticion(listado)\n",
    "print ('el numero', moda, 'se repite', veces, 'veces')"
   ]
  },
  {
   "cell_type": "code",
   "execution_count": 280,
   "metadata": {},
   "outputs": [
    {
     "name": "stdout",
     "output_type": "stream",
     "text": [
      "0 °C es igual a  273.15 °K\n"
     ]
    }
   ],
   "source": [
    "prueba.conversion(0, '°C', '°K')"
   ]
  },
  {
   "cell_type": "code",
   "execution_count": 281,
   "metadata": {},
   "outputs": [
    {
     "name": "stdout",
     "output_type": "stream",
     "text": [
      "2432902008176640000\n"
     ]
    }
   ],
   "source": [
    "prueba.factorial(20)"
   ]
  },
  {
   "attachments": {},
   "cell_type": "markdown",
   "metadata": {},
   "source": [
    "7) Es necesario que la clase creada en el punto 5 contenga una lista, sobre la cual se apliquen las funciones incorporadas"
   ]
  },
  {
   "cell_type": "code",
   "execution_count": 282,
   "metadata": {},
   "outputs": [],
   "source": [
    "class Funciones:\n",
    "    def __init__(self, lista):\n",
    "        self.lista=lista\n",
    "    \n",
    "    \n",
    "    def es_primo(self):\n",
    "        numeros = set(self.lista)\n",
    "        for num in numeros:\n",
    "            if self.__primo(num):\n",
    "                print('primo:', num)\n",
    "            else:\n",
    "                \n",
    "                print('no primo:', num)\n",
    "        \n",
    "    def __primo (self, num):\n",
    "        if num > 0:\n",
    "            for div in range (2, num):\n",
    "                if num%div == 0:\n",
    "                    return False\n",
    "        else: \n",
    "            return False\n",
    "        return  True  \n",
    "    \n",
    "    def repeticion(self):\n",
    "        contador = {}\n",
    "        \n",
    "        for num in self.lista: #para cada elemento de la lista\n",
    "            if num in contador: #si el pertenence al dicc\n",
    "                contador[num] += 1 #el elemento se vuelve en clave y recibe un valor de +1\n",
    "            else:\n",
    "                contador[num] = 1 #sino el valor recibe 1\n",
    "        veces = max(contador.values()) #funcion max retorna mayor valor\n",
    "        moda = None #none = vacio\n",
    "        for num, repeticiones in contador.items(): # clave, valor\n",
    "            if repeticiones == veces: #verifica si el valor de cada clave es igual al valor encuentrado en la variable veces\n",
    "                moda = num #moda recibe el valor clave\n",
    "                break\n",
    "        \n",
    "        return moda, veces\n",
    "    \n",
    "    def conversion(self):\n",
    "        medidas = ['°C', '°F', '°K']\n",
    "        numeros = set(self.lista)\n",
    "        for valor in numeros:\n",
    "            for medida1 in medidas:\n",
    "                for medida2 in medidas:\n",
    "                    print ('conversion', medida1, \"para\", medida2)\n",
    "                    self.__conversion(valor, medida1, medida2)\n",
    "                    print()\n",
    "\n",
    "    def __conversion(self, valor, medida1, medida2):\n",
    "        if medida1 == '°C' and medida2 == '°F':\n",
    "            valorfinal = valor * 9/5 + 32\n",
    "            print (valor, medida1 , \"es igual a \", valorfinal, medida2)\n",
    "        elif medida1 == '°C' and medida2 == '°K':\n",
    "            valorfinal = valor + 273.15 \n",
    "            print(valor, medida1 , \"es igual a \", valorfinal, medida2)\n",
    "        elif medida1 == '°K' and medida2 == '°C':\n",
    "            valorfinal = valor - 273.15\n",
    "            print (valor, medida1 , \"es igual a \", valorfinal, medida2)\n",
    "        elif medida1 == '°F' and medida2 == '°C':\n",
    "            valorfinal = (valor -32) * 5/9\n",
    "            print (valor, medida1 , \"es igual a \", valorfinal, medida2)\n",
    "        elif medida1 == '°F' and medida2 == '°K':\n",
    "            valorfinal = (valor -32) * 5/9 + 273.15\n",
    "            print(valor, medida1 , \"es igual a \", valorfinal, medida2)\n",
    "        elif medida1 == '°K' and medida2 == '°F':\n",
    "            valorfinal = (valor - 273.15) * 9/5 + 32\n",
    "            print (valor, medida1 , \"es igual a \", valorfinal, medida2)\n",
    "        elif medida1 == medida2:\n",
    "            valorfinal = valor\n",
    "        \n",
    "            print (valor, medida1, \"---medida de origen y de destino iguales, no hay conversion\")\n",
    "        elif not isinstance (medida1, str):\n",
    "            print ('medida de origen no reconocida')\n",
    "        elif not isinstance(medida2, str):\n",
    "            print ('medida destino no reconocida')\n",
    "        return valorfinal\n",
    "    \n",
    "    def factorial(self):\n",
    "        numeros = set(self.lista)\n",
    "        for i in numeros:\n",
    "            print ('factorial de ', i, 'es', self.__factorial(i))\n",
    "\n",
    "    def __factorial(self, num):        \n",
    "        \n",
    "        if not isinstance(num, int):\n",
    "            return 'debe ser inteiro'\n",
    "        if num< 0:\n",
    "            return 'debe ser positivo'   \n",
    "        if num>1:\n",
    "            num = num * self.__factorial(num -1)\n",
    "           \n",
    "        return num\n",
    "\n"
   ]
  },
  {
   "cell_type": "code",
   "execution_count": 283,
   "metadata": {},
   "outputs": [],
   "source": [
    "prueba2 = Funciones([1, 2, 3, 4, 5, 6, 8, 9, 1, 1, 3])\n",
    "\n",
    "##usado funcion set() para que los valores no se repitieran en las funciones factorial, convesion y factorial"
   ]
  },
  {
   "cell_type": "code",
   "execution_count": 284,
   "metadata": {},
   "outputs": [
    {
     "name": "stdout",
     "output_type": "stream",
     "text": [
      "primo: 1\n",
      "primo: 2\n",
      "primo: 3\n",
      "no primo: 4\n",
      "primo: 5\n",
      "no primo: 6\n",
      "no primo: 8\n",
      "no primo: 9\n"
     ]
    }
   ],
   "source": [
    "prueba2.es_primo()"
   ]
  },
  {
   "cell_type": "code",
   "execution_count": 285,
   "metadata": {},
   "outputs": [
    {
     "name": "stdout",
     "output_type": "stream",
     "text": [
      "el numero 1 se repite 3 veces\n"
     ]
    }
   ],
   "source": [
    "moda, veces = prueba2.repeticion()\n",
    "print ('el numero', moda, 'se repite', veces, 'veces')"
   ]
  },
  {
   "cell_type": "code",
   "execution_count": 286,
   "metadata": {},
   "outputs": [
    {
     "name": "stdout",
     "output_type": "stream",
     "text": [
      "conversion °C para °C\n",
      "1 °C ---medida de origen y de destino iguales, no hay conversion\n",
      "\n",
      "conversion °C para °F\n",
      "1 °C es igual a  33.8 °F\n",
      "\n",
      "conversion °C para °K\n",
      "1 °C es igual a  274.15 °K\n",
      "\n",
      "conversion °F para °C\n",
      "1 °F es igual a  -17.22222222222222 °C\n",
      "\n",
      "conversion °F para °F\n",
      "1 °F ---medida de origen y de destino iguales, no hay conversion\n",
      "\n",
      "conversion °F para °K\n",
      "1 °F es igual a  255.92777777777775 °K\n",
      "\n",
      "conversion °K para °C\n",
      "1 °K es igual a  -272.15 °C\n",
      "\n",
      "conversion °K para °F\n",
      "1 °K es igual a  -457.87 °F\n",
      "\n",
      "conversion °K para °K\n",
      "1 °K ---medida de origen y de destino iguales, no hay conversion\n",
      "\n",
      "conversion °C para °C\n",
      "2 °C ---medida de origen y de destino iguales, no hay conversion\n",
      "\n",
      "conversion °C para °F\n",
      "2 °C es igual a  35.6 °F\n",
      "\n",
      "conversion °C para °K\n",
      "2 °C es igual a  275.15 °K\n",
      "\n",
      "conversion °F para °C\n",
      "2 °F es igual a  -16.666666666666668 °C\n",
      "\n",
      "conversion °F para °F\n",
      "2 °F ---medida de origen y de destino iguales, no hay conversion\n",
      "\n",
      "conversion °F para °K\n",
      "2 °F es igual a  256.4833333333333 °K\n",
      "\n",
      "conversion °K para °C\n",
      "2 °K es igual a  -271.15 °C\n",
      "\n",
      "conversion °K para °F\n",
      "2 °K es igual a  -456.07 °F\n",
      "\n",
      "conversion °K para °K\n",
      "2 °K ---medida de origen y de destino iguales, no hay conversion\n",
      "\n",
      "conversion °C para °C\n",
      "3 °C ---medida de origen y de destino iguales, no hay conversion\n",
      "\n",
      "conversion °C para °F\n",
      "3 °C es igual a  37.4 °F\n",
      "\n",
      "conversion °C para °K\n",
      "3 °C es igual a  276.15 °K\n",
      "\n",
      "conversion °F para °C\n",
      "3 °F es igual a  -16.11111111111111 °C\n",
      "\n",
      "conversion °F para °F\n",
      "3 °F ---medida de origen y de destino iguales, no hay conversion\n",
      "\n",
      "conversion °F para °K\n",
      "3 °F es igual a  257.0388888888889 °K\n",
      "\n",
      "conversion °K para °C\n",
      "3 °K es igual a  -270.15 °C\n",
      "\n",
      "conversion °K para °F\n",
      "3 °K es igual a  -454.27 °F\n",
      "\n",
      "conversion °K para °K\n",
      "3 °K ---medida de origen y de destino iguales, no hay conversion\n",
      "\n",
      "conversion °C para °C\n",
      "4 °C ---medida de origen y de destino iguales, no hay conversion\n",
      "\n",
      "conversion °C para °F\n",
      "4 °C es igual a  39.2 °F\n",
      "\n",
      "conversion °C para °K\n",
      "4 °C es igual a  277.15 °K\n",
      "\n",
      "conversion °F para °C\n",
      "4 °F es igual a  -15.555555555555555 °C\n",
      "\n",
      "conversion °F para °F\n",
      "4 °F ---medida de origen y de destino iguales, no hay conversion\n",
      "\n",
      "conversion °F para °K\n",
      "4 °F es igual a  257.59444444444443 °K\n",
      "\n",
      "conversion °K para °C\n",
      "4 °K es igual a  -269.15 °C\n",
      "\n",
      "conversion °K para °F\n",
      "4 °K es igual a  -452.46999999999997 °F\n",
      "\n",
      "conversion °K para °K\n",
      "4 °K ---medida de origen y de destino iguales, no hay conversion\n",
      "\n",
      "conversion °C para °C\n",
      "5 °C ---medida de origen y de destino iguales, no hay conversion\n",
      "\n",
      "conversion °C para °F\n",
      "5 °C es igual a  41.0 °F\n",
      "\n",
      "conversion °C para °K\n",
      "5 °C es igual a  278.15 °K\n",
      "\n",
      "conversion °F para °C\n",
      "5 °F es igual a  -15.0 °C\n",
      "\n",
      "conversion °F para °F\n",
      "5 °F ---medida de origen y de destino iguales, no hay conversion\n",
      "\n",
      "conversion °F para °K\n",
      "5 °F es igual a  258.15 °K\n",
      "\n",
      "conversion °K para °C\n",
      "5 °K es igual a  -268.15 °C\n",
      "\n",
      "conversion °K para °F\n",
      "5 °K es igual a  -450.66999999999996 °F\n",
      "\n",
      "conversion °K para °K\n",
      "5 °K ---medida de origen y de destino iguales, no hay conversion\n",
      "\n",
      "conversion °C para °C\n",
      "6 °C ---medida de origen y de destino iguales, no hay conversion\n",
      "\n",
      "conversion °C para °F\n",
      "6 °C es igual a  42.8 °F\n",
      "\n",
      "conversion °C para °K\n",
      "6 °C es igual a  279.15 °K\n",
      "\n",
      "conversion °F para °C\n",
      "6 °F es igual a  -14.444444444444445 °C\n",
      "\n",
      "conversion °F para °F\n",
      "6 °F ---medida de origen y de destino iguales, no hay conversion\n",
      "\n",
      "conversion °F para °K\n",
      "6 °F es igual a  258.7055555555555 °K\n",
      "\n",
      "conversion °K para °C\n",
      "6 °K es igual a  -267.15 °C\n",
      "\n",
      "conversion °K para °F\n",
      "6 °K es igual a  -448.87 °F\n",
      "\n",
      "conversion °K para °K\n",
      "6 °K ---medida de origen y de destino iguales, no hay conversion\n",
      "\n",
      "conversion °C para °C\n",
      "8 °C ---medida de origen y de destino iguales, no hay conversion\n",
      "\n",
      "conversion °C para °F\n",
      "8 °C es igual a  46.4 °F\n",
      "\n",
      "conversion °C para °K\n",
      "8 °C es igual a  281.15 °K\n",
      "\n",
      "conversion °F para °C\n",
      "8 °F es igual a  -13.333333333333334 °C\n",
      "\n",
      "conversion °F para °F\n",
      "8 °F ---medida de origen y de destino iguales, no hay conversion\n",
      "\n",
      "conversion °F para °K\n",
      "8 °F es igual a  259.81666666666666 °K\n",
      "\n",
      "conversion °K para °C\n",
      "8 °K es igual a  -265.15 °C\n",
      "\n",
      "conversion °K para °F\n",
      "8 °K es igual a  -445.27 °F\n",
      "\n",
      "conversion °K para °K\n",
      "8 °K ---medida de origen y de destino iguales, no hay conversion\n",
      "\n",
      "conversion °C para °C\n",
      "9 °C ---medida de origen y de destino iguales, no hay conversion\n",
      "\n",
      "conversion °C para °F\n",
      "9 °C es igual a  48.2 °F\n",
      "\n",
      "conversion °C para °K\n",
      "9 °C es igual a  282.15 °K\n",
      "\n",
      "conversion °F para °C\n",
      "9 °F es igual a  -12.777777777777779 °C\n",
      "\n",
      "conversion °F para °F\n",
      "9 °F ---medida de origen y de destino iguales, no hay conversion\n",
      "\n",
      "conversion °F para °K\n",
      "9 °F es igual a  260.3722222222222 °K\n",
      "\n",
      "conversion °K para °C\n",
      "9 °K es igual a  -264.15 °C\n",
      "\n",
      "conversion °K para °F\n",
      "9 °K es igual a  -443.46999999999997 °F\n",
      "\n",
      "conversion °K para °K\n",
      "9 °K ---medida de origen y de destino iguales, no hay conversion\n",
      "\n"
     ]
    }
   ],
   "source": [
    "prueba2.conversion()"
   ]
  },
  {
   "cell_type": "code",
   "execution_count": 287,
   "metadata": {},
   "outputs": [
    {
     "name": "stdout",
     "output_type": "stream",
     "text": [
      "factorial de  1 es 1\n",
      "factorial de  2 es 2\n",
      "factorial de  3 es 6\n",
      "factorial de  4 es 24\n",
      "factorial de  5 es 120\n",
      "factorial de  6 es 720\n",
      "factorial de  8 es 40320\n",
      "factorial de  9 es 362880\n"
     ]
    }
   ],
   "source": [
    "prueba2.factorial()"
   ]
  },
  {
   "attachments": {},
   "cell_type": "markdown",
   "metadata": {},
   "source": [
    "8) Crear un archivo .py aparte y ubicar allí la clase generada en el punto anterior. Luego realizar la importación del módulo y probar alguna de sus funciones"
   ]
  },
  {
   "cell_type": "code",
   "execution_count": 288,
   "metadata": {},
   "outputs": [],
   "source": [
    "from funciones import *"
   ]
  },
  {
   "cell_type": "code",
   "execution_count": 289,
   "metadata": {},
   "outputs": [],
   "source": [
    "prueba3 = Funciones([2,2,5,3,2,0])"
   ]
  },
  {
   "cell_type": "code",
   "execution_count": 296,
   "metadata": {},
   "outputs": [
    {
     "name": "stdout",
     "output_type": "stream",
     "text": [
      "no primo: 0\n",
      "primo: 2\n",
      "primo: 3\n",
      "primo: 5\n"
     ]
    }
   ],
   "source": [
    "prueba3.es_primo() "
   ]
  },
  {
   "cell_type": "code",
   "execution_count": 297,
   "metadata": {},
   "outputs": [
    {
     "name": "stdout",
     "output_type": "stream",
     "text": [
      "el numero 2 se repite 3 veces\n"
     ]
    }
   ],
   "source": [
    "moda, veces = prueba3.repeticion()\n",
    "print ('el numero', moda, 'se repite', veces, 'veces')"
   ]
  },
  {
   "cell_type": "code",
   "execution_count": 298,
   "metadata": {},
   "outputs": [
    {
     "name": "stdout",
     "output_type": "stream",
     "text": [
      "conversion °C para °C\n",
      "0 °C ---medida de origen y de destino iguales, no hay conversion\n",
      "\n",
      "conversion °C para °F\n",
      "0 °C es igual a  32.0 °F\n",
      "\n",
      "conversion °C para °K\n",
      "0 °C es igual a  273.15 °K\n",
      "\n",
      "conversion °F para °C\n",
      "0 °F es igual a  -17.77777777777778 °C\n",
      "\n",
      "conversion °F para °F\n",
      "0 °F ---medida de origen y de destino iguales, no hay conversion\n",
      "\n",
      "conversion °F para °K\n",
      "0 °F es igual a  255.3722222222222 °K\n",
      "\n",
      "conversion °K para °C\n",
      "0 °K es igual a  -273.15 °C\n",
      "\n",
      "conversion °K para °F\n",
      "0 °K es igual a  -459.66999999999996 °F\n",
      "\n",
      "conversion °K para °K\n",
      "0 °K ---medida de origen y de destino iguales, no hay conversion\n",
      "\n",
      "conversion °C para °C\n",
      "2 °C ---medida de origen y de destino iguales, no hay conversion\n",
      "\n",
      "conversion °C para °F\n",
      "2 °C es igual a  35.6 °F\n",
      "\n",
      "conversion °C para °K\n",
      "2 °C es igual a  275.15 °K\n",
      "\n",
      "conversion °F para °C\n",
      "2 °F es igual a  -16.666666666666668 °C\n",
      "\n",
      "conversion °F para °F\n",
      "2 °F ---medida de origen y de destino iguales, no hay conversion\n",
      "\n",
      "conversion °F para °K\n",
      "2 °F es igual a  256.4833333333333 °K\n",
      "\n",
      "conversion °K para °C\n",
      "2 °K es igual a  -271.15 °C\n",
      "\n",
      "conversion °K para °F\n",
      "2 °K es igual a  -456.07 °F\n",
      "\n",
      "conversion °K para °K\n",
      "2 °K ---medida de origen y de destino iguales, no hay conversion\n",
      "\n",
      "conversion °C para °C\n",
      "3 °C ---medida de origen y de destino iguales, no hay conversion\n",
      "\n",
      "conversion °C para °F\n",
      "3 °C es igual a  37.4 °F\n",
      "\n",
      "conversion °C para °K\n",
      "3 °C es igual a  276.15 °K\n",
      "\n",
      "conversion °F para °C\n",
      "3 °F es igual a  -16.11111111111111 °C\n",
      "\n",
      "conversion °F para °F\n",
      "3 °F ---medida de origen y de destino iguales, no hay conversion\n",
      "\n",
      "conversion °F para °K\n",
      "3 °F es igual a  257.0388888888889 °K\n",
      "\n",
      "conversion °K para °C\n",
      "3 °K es igual a  -270.15 °C\n",
      "\n",
      "conversion °K para °F\n",
      "3 °K es igual a  -454.27 °F\n",
      "\n",
      "conversion °K para °K\n",
      "3 °K ---medida de origen y de destino iguales, no hay conversion\n",
      "\n",
      "conversion °C para °C\n",
      "5 °C ---medida de origen y de destino iguales, no hay conversion\n",
      "\n",
      "conversion °C para °F\n",
      "5 °C es igual a  41.0 °F\n",
      "\n",
      "conversion °C para °K\n",
      "5 °C es igual a  278.15 °K\n",
      "\n",
      "conversion °F para °C\n",
      "5 °F es igual a  -15.0 °C\n",
      "\n",
      "conversion °F para °F\n",
      "5 °F ---medida de origen y de destino iguales, no hay conversion\n",
      "\n",
      "conversion °F para °K\n",
      "5 °F es igual a  258.15 °K\n",
      "\n",
      "conversion °K para °C\n",
      "5 °K es igual a  -268.15 °C\n",
      "\n",
      "conversion °K para °F\n",
      "5 °K es igual a  -450.66999999999996 °F\n",
      "\n",
      "conversion °K para °K\n",
      "5 °K ---medida de origen y de destino iguales, no hay conversion\n",
      "\n"
     ]
    }
   ],
   "source": [
    "prueba3.conversion()"
   ]
  },
  {
   "cell_type": "code",
   "execution_count": 299,
   "metadata": {},
   "outputs": [
    {
     "name": "stdout",
     "output_type": "stream",
     "text": [
      "factorial de  0 es 0\n",
      "factorial de  2 es 2\n",
      "factorial de  3 es 6\n",
      "factorial de  5 es 120\n"
     ]
    }
   ],
   "source": [
    "prueba3.factorial()"
   ]
  }
 ],
 "metadata": {
  "interpreter": {
   "hash": "c85384e4cb51c8b72350f3a8712cc8351fdc3955e32a27f9b60c6242ab125f01"
  },
  "kernelspec": {
   "display_name": "Python 3 (ipykernel)",
   "language": "python",
   "name": "python3"
  },
  "language_info": {
   "codemirror_mode": {
    "name": "ipython",
    "version": 3
   },
   "file_extension": ".py",
   "mimetype": "text/x-python",
   "name": "python",
   "nbconvert_exporter": "python",
   "pygments_lexer": "ipython3",
   "version": "3.11.5"
  }
 },
 "nbformat": 4,
 "nbformat_minor": 4
}
