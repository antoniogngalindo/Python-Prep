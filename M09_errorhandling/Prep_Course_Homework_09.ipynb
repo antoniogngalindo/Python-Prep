{
 "cells": [
  {
   "attachments": {},
   "cell_type": "markdown",
   "metadata": {},
   "source": [
    "## Manejo de errores"
   ]
  },
  {
   "attachments": {},
   "cell_type": "markdown",
   "metadata": {},
   "source": [
    "1) Con la clase creada en el módulo 7, tener en cuenta diferentes casos en que el código pudiera arrojar error. Por ejemplo, en la creación del objeto recibimos una lista de números enteros pero ¿qué pasa si se envía otro tipo de dato?"
   ]
  },
  {
   "cell_type": "code",
   "execution_count": 2,
   "metadata": {},
   "outputs": [],
   "source": [
    "import sys\n",
    "sys.path.append(r'C:\\Users\\Positivo\\Desktop\\Python-Prep\\M08_clasesyOOP')"
   ]
  },
  {
   "cell_type": "code",
   "execution_count": 3,
   "metadata": {},
   "outputs": [],
   "source": [
    "import funciones as f"
   ]
  },
  {
   "cell_type": "code",
   "execution_count": 4,
   "metadata": {},
   "outputs": [
    {
     "ename": "TypeError",
     "evalue": "se espera una lista",
     "output_type": "error",
     "traceback": [
      "\u001b[1;31m---------------------------------------------------------------------------\u001b[0m",
      "\u001b[1;31mTypeError\u001b[0m                                 Traceback (most recent call last)",
      "\u001b[1;32mc:\\Users\\Positivo\\Desktop\\Python-Prep\\M09_errorhandling\\Prep_Course_Homework_09.ipynb Cell 5\u001b[0m line \u001b[0;36m1\n\u001b[1;32m----> <a href='vscode-notebook-cell:/c%3A/Users/Positivo/Desktop/Python-Prep/M09_errorhandling/Prep_Course_Homework_09.ipynb#W4sZmlsZQ%3D%3D?line=0'>1</a>\u001b[0m prueba \u001b[39m=\u001b[39m f\u001b[39m.\u001b[39;49mFunciones(\u001b[39m3.5\u001b[39;49m)\n",
      "File \u001b[1;32m~\\Desktop\\Python-Prep\\M08_clasesyOOP\\funciones.py:5\u001b[0m, in \u001b[0;36mFunciones.__init__\u001b[1;34m(self, lista)\u001b[0m\n\u001b[0;32m      3\u001b[0m \u001b[39mif\u001b[39;00m \u001b[39mnot\u001b[39;00m \u001b[39misinstance\u001b[39m (lista, \u001b[39mlist\u001b[39m): \u001b[39m#condicion sobre no ser una lista\u001b[39;00m\n\u001b[0;32m      4\u001b[0m     \u001b[39mself\u001b[39m\u001b[39m.\u001b[39mlista \u001b[39m=\u001b[39m[] \n\u001b[1;32m----> 5\u001b[0m     \u001b[39mraise\u001b[39;00m \u001b[39mTypeError\u001b[39;00m (\u001b[39m'\u001b[39m\u001b[39mse espera una lista\u001b[39m\u001b[39m'\u001b[39m) \u001b[39m#mostrar error \u001b[39;00m\n\u001b[0;32m      7\u001b[0m \u001b[39mself\u001b[39m\u001b[39m.\u001b[39mlista\u001b[39m=\u001b[39mlista\n",
      "\u001b[1;31mTypeError\u001b[0m: se espera una lista"
     ]
    }
   ],
   "source": [
    "prueba = f.Funciones(3.5)"
   ]
  },
  {
   "cell_type": "code",
   "execution_count": 5,
   "metadata": {},
   "outputs": [
    {
     "ename": "TypeError",
     "evalue": "se espera una lista",
     "output_type": "error",
     "traceback": [
      "\u001b[1;31m---------------------------------------------------------------------------\u001b[0m",
      "\u001b[1;31mTypeError\u001b[0m                                 Traceback (most recent call last)",
      "\u001b[1;32mc:\\Users\\Positivo\\Desktop\\Python-Prep\\M09_errorhandling\\Prep_Course_Homework_09.ipynb Cell 6\u001b[0m line \u001b[0;36m1\n\u001b[1;32m----> <a href='vscode-notebook-cell:/c%3A/Users/Positivo/Desktop/Python-Prep/M09_errorhandling/Prep_Course_Homework_09.ipynb#W5sZmlsZQ%3D%3D?line=0'>1</a>\u001b[0m prueba \u001b[39m=\u001b[39m f\u001b[39m.\u001b[39;49mFunciones(\u001b[39m'\u001b[39;49m\u001b[39mhola\u001b[39;49m\u001b[39m'\u001b[39;49m)\n",
      "File \u001b[1;32m~\\Desktop\\Python-Prep\\M08_clasesyOOP\\funciones.py:5\u001b[0m, in \u001b[0;36mFunciones.__init__\u001b[1;34m(self, lista)\u001b[0m\n\u001b[0;32m      3\u001b[0m \u001b[39mif\u001b[39;00m \u001b[39mnot\u001b[39;00m \u001b[39misinstance\u001b[39m (lista, \u001b[39mlist\u001b[39m): \u001b[39m#condicion sobre no ser una lista\u001b[39;00m\n\u001b[0;32m      4\u001b[0m     \u001b[39mself\u001b[39m\u001b[39m.\u001b[39mlista \u001b[39m=\u001b[39m[] \n\u001b[1;32m----> 5\u001b[0m     \u001b[39mraise\u001b[39;00m \u001b[39mTypeError\u001b[39;00m (\u001b[39m'\u001b[39m\u001b[39mse espera una lista\u001b[39m\u001b[39m'\u001b[39m) \u001b[39m#mostrar error \u001b[39;00m\n\u001b[0;32m      7\u001b[0m \u001b[39mself\u001b[39m\u001b[39m.\u001b[39mlista\u001b[39m=\u001b[39mlista\n",
      "\u001b[1;31mTypeError\u001b[0m: se espera una lista"
     ]
    }
   ],
   "source": [
    "prueba = f.Funciones('hola')"
   ]
  },
  {
   "attachments": {},
   "cell_type": "markdown",
   "metadata": {},
   "source": [
    "2) En la función que hace la conversión de grados, validar que los parámetros enviados sean los esperados, de no serlo, informar cuáles son los valores esperados."
   ]
  },
  {
   "cell_type": "code",
   "execution_count": 6,
   "metadata": {},
   "outputs": [
    {
     "data": {
      "text/plain": [
       "<module 'funciones' from 'C:\\\\Users\\\\Positivo\\\\Desktop\\\\Python-Prep\\\\M08_clasesyOOP\\\\funciones.py'>"
      ]
     },
     "execution_count": 6,
     "metadata": {},
     "output_type": "execute_result"
    }
   ],
   "source": [
    "import importlib\n",
    "importlib.reload(f)"
   ]
  },
  {
   "cell_type": "code",
   "execution_count": 7,
   "metadata": {},
   "outputs": [
    {
     "name": "stdout",
     "output_type": "stream",
     "text": [
      "la medida 1 debe ser: ['°C', '°F', '°K']\n",
      "la medida 2 debe ser: ['°C', '°F', '°K']\n"
     ]
    }
   ],
   "source": [
    "prueba2 = f.Funciones([1,5])\n",
    "prueba2.conversion(3,4)"
   ]
  },
  {
   "cell_type": "code",
   "execution_count": 8,
   "metadata": {},
   "outputs": [
    {
     "name": "stdout",
     "output_type": "stream",
     "text": [
      "conversion °C para °K\n",
      "1 °C es igual a  274.15 °K\n",
      "\n",
      "conversion °C para °K\n",
      "5 °C es igual a  278.15 °K\n",
      "\n"
     ]
    }
   ],
   "source": [
    "prueba2.conversion('°C','°K')"
   ]
  },
  {
   "attachments": {},
   "cell_type": "markdown",
   "metadata": {},
   "source": [
    "3) Importar el modulo \"unittest\" y crear los siguientes casos de pruebas sobre la clase utilizada en el punto 2<br>\n",
    "Creacion del objeto incorrecta<br>\n",
    "Creacion correcta del objeto<br>\n",
    "Metodo valor_modal()<br>\n",
    "\n",
    "Se puede usar \"raise ValueError()\" en la creación de la clase para verificar el error. Investigar sobre esta funcionalidad."
   ]
  },
  {
   "cell_type": "code",
   "execution_count": 14,
   "metadata": {},
   "outputs": [],
   "source": [
    "import unittest"
   ]
  },
  {
   "cell_type": "code",
   "execution_count": 15,
   "metadata": {},
   "outputs": [],
   "source": [
    "import funciones as f"
   ]
  },
  {
   "cell_type": "code",
   "execution_count": 16,
   "metadata": {},
   "outputs": [],
   "source": [
    "class FuncionesTest (unittest.TestCase):\n",
    "\n",
    "    def test_objeto_incorrecto(self):\n",
    "        var = 'objeto'\n",
    "        self.assertRaises(TypeError, f.Funciones , var)\n",
    "\n",
    "    def test_objeto_correcto(self):\n",
    "        var = [1, 1, 2]\n",
    "        prueba = f.Funciones(var)\n",
    "        self.assertEqual(prueba.lista, var)\n",
    "    \n",
    "    def test_modal(self):\n",
    "        var = [1, 1, 2]\n",
    "        prueba = f.Funciones(var)\n",
    "        moda, veces = prueba.repeticion()\n",
    "        moda =[moda]\n",
    "        moda.append(veces)\n",
    "        resultado = [1, 2]\n",
    "        self.assertEqual(resultado, moda)"
   ]
  },
  {
   "cell_type": "code",
   "execution_count": 17,
   "metadata": {},
   "outputs": [
    {
     "name": "stderr",
     "output_type": "stream",
     "text": [
      "test_modal (__main__.FuncionesTest.test_modal) ... ok\n",
      "test_objeto_correcto (__main__.FuncionesTest.test_objeto_correcto) ... ok\n",
      "test_objeto_incorrecto (__main__.FuncionesTest.test_objeto_incorrecto) ... ok\n",
      "\n",
      "----------------------------------------------------------------------\n",
      "Ran 3 tests in 0.025s\n",
      "\n",
      "OK\n"
     ]
    },
    {
     "data": {
      "text/plain": [
       "<unittest.main.TestProgram at 0x244feca5010>"
      ]
     },
     "execution_count": 17,
     "metadata": {},
     "output_type": "execute_result"
    }
   ],
   "source": [
    "unittest.main(argv=[''], verbosity=2, exit=False)"
   ]
  },
  {
   "attachments": {},
   "cell_type": "markdown",
   "metadata": {},
   "source": [
    "4) Probar una creación incorrecta y visualizar la salida del \"raise\""
   ]
  },
  {
   "cell_type": "code",
   "execution_count": 19,
   "metadata": {},
   "outputs": [
    {
     "ename": "TypeError",
     "evalue": "se espera una lista",
     "output_type": "error",
     "traceback": [
      "\u001b[1;31m---------------------------------------------------------------------------\u001b[0m",
      "\u001b[1;31mTypeError\u001b[0m                                 Traceback (most recent call last)",
      "\u001b[1;32mc:\\Users\\Positivo\\Desktop\\Python-Prep\\M09_errorhandling\\Prep_Course_Homework_09.ipynb Cell 17\u001b[0m line \u001b[0;36m1\n\u001b[1;32m----> <a href='vscode-notebook-cell:/c%3A/Users/Positivo/Desktop/Python-Prep/M09_errorhandling/Prep_Course_Homework_09.ipynb#X22sZmlsZQ%3D%3D?line=0'>1</a>\u001b[0m prueba \u001b[39m=\u001b[39m f\u001b[39m.\u001b[39;49mFunciones(\u001b[39m'\u001b[39;49m\u001b[39mteste\u001b[39;49m\u001b[39m'\u001b[39;49m)\n",
      "File \u001b[1;32m~\\Desktop\\Python-Prep\\M08_clasesyOOP\\funciones.py:5\u001b[0m, in \u001b[0;36mFunciones.__init__\u001b[1;34m(self, lista)\u001b[0m\n\u001b[0;32m      3\u001b[0m \u001b[39mif\u001b[39;00m \u001b[39mnot\u001b[39;00m \u001b[39misinstance\u001b[39m (lista, \u001b[39mlist\u001b[39m): \u001b[39m#condicion sobre no ser una lista\u001b[39;00m\n\u001b[0;32m      4\u001b[0m     \u001b[39mself\u001b[39m\u001b[39m.\u001b[39mlista \u001b[39m=\u001b[39m[] \n\u001b[1;32m----> 5\u001b[0m     \u001b[39mraise\u001b[39;00m \u001b[39mTypeError\u001b[39;00m (\u001b[39m'\u001b[39m\u001b[39mse espera una lista\u001b[39m\u001b[39m'\u001b[39m) \u001b[39m#mostrar error \u001b[39;00m\n\u001b[0;32m      7\u001b[0m \u001b[39mself\u001b[39m\u001b[39m.\u001b[39mlista\u001b[39m=\u001b[39mlista\n",
      "\u001b[1;31mTypeError\u001b[0m: se espera una lista"
     ]
    }
   ],
   "source": [
    "prueba = f.Funciones('teste')"
   ]
  },
  {
   "attachments": {},
   "cell_type": "markdown",
   "metadata": {},
   "source": [
    "6) Agregar casos de pruebas para el método verifica_primos() realizando el cambio en la clase, para que devuelva una lista de True o False en función de que el elemento en la posisicón sea o no primo"
   ]
  },
  {
   "cell_type": "code",
   "execution_count": 20,
   "metadata": {},
   "outputs": [],
   "source": [
    "class FuncionesTest (unittest.TestCase):\n",
    "    \n",
    "    def test_es_primo (self):\n",
    "        var = [2, 3, 5, 6]\n",
    "        prueba = f.Funciones(var)\n",
    "        primo = prueba.es_primo()\n",
    "        resultado = [True, True, True, False]\n",
    "        self.assertEqual (primo, resultado)"
   ]
  },
  {
   "cell_type": "code",
   "execution_count": 21,
   "metadata": {},
   "outputs": [
    {
     "data": {
      "text/plain": [
       "<module 'funciones' from 'C:\\\\Users\\\\Positivo\\\\Desktop\\\\Python-Prep\\\\M08_clasesyOOP\\\\funciones.py'>"
      ]
     },
     "execution_count": 21,
     "metadata": {},
     "output_type": "execute_result"
    }
   ],
   "source": [
    "importlib.reload(f)"
   ]
  },
  {
   "cell_type": "code",
   "execution_count": 22,
   "metadata": {},
   "outputs": [
    {
     "name": "stderr",
     "output_type": "stream",
     "text": [
      "test_es_primo (__main__.FuncionesTest.test_es_primo) ... ok\n",
      "\n",
      "----------------------------------------------------------------------\n",
      "Ran 1 test in 0.019s\n",
      "\n",
      "OK\n"
     ]
    },
    {
     "name": "stdout",
     "output_type": "stream",
     "text": [
      "primo: 2\n",
      "primo: 3\n",
      "primo: 5\n",
      "no primo: 6\n"
     ]
    },
    {
     "data": {
      "text/plain": [
       "<unittest.main.TestProgram at 0x244feca8150>"
      ]
     },
     "execution_count": 22,
     "metadata": {},
     "output_type": "execute_result"
    }
   ],
   "source": [
    "unittest.main(argv=[''], verbosity=2, exit = False)"
   ]
  },
  {
   "attachments": {},
   "cell_type": "markdown",
   "metadata": {},
   "source": [
    "7) Agregar casos de pruebas para el método conversion_grados()"
   ]
  },
  {
   "cell_type": "code",
   "execution_count": 23,
   "metadata": {},
   "outputs": [],
   "source": [
    "class FuncionesTest (unittest.TestCase):\n",
    "\n",
    "    def test_conversion (self):\n",
    "        lista = [1, 2, 3]\n",
    "        prueba = f.Funciones(lista)\n",
    "        grado = prueba.conversion('°C', '°K')\n",
    "        resultado = [274.15, 275.15, 276.15]\n",
    "        self.assertEqual(grado, resultado)"
   ]
  },
  {
   "cell_type": "code",
   "execution_count": 24,
   "metadata": {},
   "outputs": [
    {
     "data": {
      "text/plain": [
       "<module 'funciones' from 'C:\\\\Users\\\\Positivo\\\\Desktop\\\\Python-Prep\\\\M08_clasesyOOP\\\\funciones.py'>"
      ]
     },
     "execution_count": 24,
     "metadata": {},
     "output_type": "execute_result"
    }
   ],
   "source": [
    "importlib.reload(f)"
   ]
  },
  {
   "cell_type": "code",
   "execution_count": 25,
   "metadata": {},
   "outputs": [
    {
     "name": "stderr",
     "output_type": "stream",
     "text": [
      "test_conversion (__main__.FuncionesTest.test_conversion) ... ok\n",
      "\n",
      "----------------------------------------------------------------------\n",
      "Ran 1 test in 0.016s\n",
      "\n",
      "OK\n"
     ]
    },
    {
     "name": "stdout",
     "output_type": "stream",
     "text": [
      "conversion °C para °K\n",
      "1 °C es igual a  274.15 °K\n",
      "\n",
      "conversion °C para °K\n",
      "2 °C es igual a  275.15 °K\n",
      "\n",
      "conversion °C para °K\n",
      "3 °C es igual a  276.15 °K\n",
      "\n"
     ]
    },
    {
     "data": {
      "text/plain": [
       "<unittest.main.TestProgram at 0x244ffc8a7d0>"
      ]
     },
     "execution_count": 25,
     "metadata": {},
     "output_type": "execute_result"
    }
   ],
   "source": [
    "unittest.main(argv=[''], verbosity=2, exit=False)"
   ]
  },
  {
   "attachments": {},
   "cell_type": "markdown",
   "metadata": {},
   "source": [
    "8) Agregar casos de pruebas para el método factorial()"
   ]
  },
  {
   "cell_type": "code",
   "execution_count": 34,
   "metadata": {},
   "outputs": [],
   "source": [
    "class FuncionesTest (unittest.TestCase):\n",
    "\n",
    "    def test_factorial(self):\n",
    "        num = [2, 3, 4]\n",
    "        prueba = f.Funciones(num)\n",
    "        fact = prueba.factorial()\n",
    "        resultado = [2, 6, 24]\n",
    "        self.assertEqual(fact, resultado)"
   ]
  },
  {
   "cell_type": "code",
   "execution_count": 35,
   "metadata": {},
   "outputs": [
    {
     "data": {
      "text/plain": [
       "<module 'funciones' from 'C:\\\\Users\\\\Positivo\\\\Desktop\\\\Python-Prep\\\\M08_clasesyOOP\\\\funciones.py'>"
      ]
     },
     "execution_count": 35,
     "metadata": {},
     "output_type": "execute_result"
    }
   ],
   "source": [
    "importlib.reload(f)"
   ]
  },
  {
   "cell_type": "code",
   "execution_count": 36,
   "metadata": {},
   "outputs": [
    {
     "name": "stderr",
     "output_type": "stream",
     "text": [
      "test_factorial (__main__.FuncionesTest.test_factorial) ... ok\n",
      "\n",
      "----------------------------------------------------------------------\n",
      "Ran 1 test in 0.011s\n",
      "\n",
      "OK\n"
     ]
    },
    {
     "name": "stdout",
     "output_type": "stream",
     "text": [
      "factorial de  2 es 2\n",
      "factorial de  3 es 6\n",
      "factorial de  4 es 24\n"
     ]
    },
    {
     "data": {
      "text/plain": [
       "<unittest.main.TestProgram at 0x244ffbcd790>"
      ]
     },
     "execution_count": 36,
     "metadata": {},
     "output_type": "execute_result"
    }
   ],
   "source": [
    "unittest.main(argv=[''], verbosity=2, exit=False)"
   ]
  }
 ],
 "metadata": {
  "interpreter": {
   "hash": "c85384e4cb51c8b72350f3a8712cc8351fdc3955e32a27f9b60c6242ab125f01"
  },
  "kernelspec": {
   "display_name": "Python 3 (ipykernel)",
   "language": "python",
   "name": "python3"
  },
  "language_info": {
   "codemirror_mode": {
    "name": "ipython",
    "version": 3
   },
   "file_extension": ".py",
   "mimetype": "text/x-python",
   "name": "python",
   "nbconvert_exporter": "python",
   "pygments_lexer": "ipython3",
   "version": "3.11.5"
  }
 },
 "nbformat": 4,
 "nbformat_minor": 4
}
