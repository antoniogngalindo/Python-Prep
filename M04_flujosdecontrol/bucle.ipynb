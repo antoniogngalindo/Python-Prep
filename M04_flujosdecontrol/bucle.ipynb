{
 "cells": [
  {
   "cell_type": "code",
   "execution_count": 70,
   "metadata": {},
   "outputs": [
    {
     "name": "stdout",
     "output_type": "stream",
     "text": [
      "1\n"
     ]
    }
   ],
   "source": [
    "suma = 0\n",
    "suma += 1\n",
    "print (suma)"
   ]
  },
  {
   "cell_type": "code",
   "execution_count": 71,
   "metadata": {},
   "outputs": [
    {
     "name": "stdout",
     "output_type": "stream",
     "text": [
      "2\n",
      "3\n",
      "4\n",
      "5\n",
      "6\n"
     ]
    }
   ],
   "source": [
    "numero=[1,2,3,4,5]\n",
    "for num in numero:\n",
    "    suma1 = num + 1\n",
    "    print (suma1)"
   ]
  },
  {
   "cell_type": "code",
   "execution_count": 72,
   "metadata": {},
   "outputs": [
    {
     "name": "stdout",
     "output_type": "stream",
     "text": [
      "2\n",
      "variable 1 resutado 2\n",
      "3\n",
      "variable 2 resutado 3\n",
      "4\n",
      "variable 3 resutado 4\n",
      "5\n",
      "variable 4 resutado 5\n",
      "6\n",
      "variable 5 resutado 6\n"
     ]
    }
   ],
   "source": [
    "for i in range(1,6):\n",
    "    suma2 = i + 1\n",
    "    print (suma2)\n",
    "    print ('variable', i , 'resutado', suma2)"
   ]
  },
  {
   "cell_type": "code",
   "execution_count": 73,
   "metadata": {},
   "outputs": [
    {
     "name": "stdout",
     "output_type": "stream",
     "text": [
      "num 1\n",
      "num 2\n",
      "num 3\n",
      "num 4\n",
      "num 5\n"
     ]
    }
   ],
   "source": [
    "num=1\n",
    "while num<6:\n",
    "    print(\"num\",num)\n",
    "    num=num+1"
   ]
  },
  {
   "cell_type": "code",
   "execution_count": 74,
   "metadata": {},
   "outputs": [
    {
     "name": "stdout",
     "output_type": "stream",
     "text": [
      "valor de for é:  0\n",
      "valor de while é  5\n",
      "valor de while é  4\n",
      "valor de while é  3\n",
      "valor de while é  2\n",
      "valor de while é  1\n",
      "valor de while é  0\n",
      "valor de for é:  1\n",
      "valor de while é  5\n",
      "valor de while é  4\n",
      "valor de while é  3\n",
      "valor de while é  2\n",
      "valor de while é  1\n",
      "valor de for é:  2\n",
      "valor de while é  5\n",
      "valor de while é  4\n",
      "valor de while é  3\n",
      "valor de while é  2\n",
      "valor de for é:  3\n",
      "valor de while é  5\n",
      "valor de while é  4\n",
      "valor de while é  3\n",
      "valor de for é:  4\n",
      "valor de while é  5\n",
      "valor de while é  4\n"
     ]
    }
   ],
   "source": [
    "for i in range (0,5):\n",
    "    print ('valor de for é: ', i)\n",
    "    j = 5\n",
    "    while j>=i:\n",
    "        print ('valor de while é ', j)\n",
    "        j-=1"
   ]
  },
  {
   "cell_type": "code",
   "execution_count": 75,
   "metadata": {},
   "outputs": [
    {
     "name": "stdout",
     "output_type": "stream",
     "text": [
      "valor de while=  1\n",
      "valor de for=  1\n",
      "valor de for=  2\n",
      "valor de for=  3\n",
      "valor de while=  2\n",
      "valor de for=  1\n",
      "valor de for=  2\n",
      "valor de for=  3\n",
      "valor de while=  3\n",
      "valor de for=  1\n",
      "valor de for=  2\n",
      "valor de for=  3\n",
      "valor de while=  4\n",
      "valor de for=  1\n",
      "valor de for=  2\n",
      "valor de for=  3\n",
      "valor de while=  5\n",
      "valor de for=  1\n",
      "valor de for=  2\n",
      "valor de for=  3\n",
      "valor de while=  6\n",
      "valor de for=  1\n",
      "valor de for=  2\n",
      "valor de for=  3\n"
     ]
    }
   ],
   "source": [
    "j = 0\n",
    "while ( j <= 5):\n",
    "    j +=1 \n",
    "    print ('valor de while= ', j)\n",
    "    for i in range (1, 4):\n",
    "        print ('valor de for= ', i)\n",
    "        \n"
   ]
  },
  {
   "cell_type": "code",
   "execution_count": 76,
   "metadata": {},
   "outputs": [
    {
     "name": "stdout",
     "output_type": "stream",
     "text": [
      "1  es primo\n",
      "2  es primo\n",
      "3  es primo\n",
      "5  es primo\n",
      "7  es primo\n",
      "11  es primo\n",
      "13  es primo\n",
      "17  es primo\n",
      "19  es primo\n",
      "23  es primo\n",
      "29  es primo\n"
     ]
    }
   ],
   "source": [
    "for numero in range (0, 30):\n",
    "    numero += 1\n",
    "    if numero >= 0:\n",
    "        primo = True\n",
    "        div = 2\n",
    "        while div <= numero // 2 and primo:\n",
    "            if numero % div == 0:\n",
    "                primo = False\n",
    "            div += 1\n",
    "        if primo:\n",
    "            print (numero, ' es primo')"
   ]
  },
  {
   "cell_type": "code",
   "execution_count": 77,
   "metadata": {},
   "outputs": [
    {
     "name": "stdout",
     "output_type": "stream",
     "text": [
      "1  es primo\n",
      "2  es primo\n",
      "3  es primo\n",
      "5  es primo\n",
      "7  es primo\n",
      "9  es primo\n",
      "11  es primo\n",
      "13  es primo\n",
      "15  es primo\n",
      "17  es primo\n",
      "19  es primo\n",
      "21  es primo\n",
      "23  es primo\n",
      "25  es primo\n",
      "27  es primo\n",
      "29  es primo\n"
     ]
    }
   ],
   "source": [
    "for numero in range (0, 30):\n",
    "    numero += 1\n",
    "    if numero >= 0:\n",
    "        primo = True\n",
    "        for div in range (2, numero):\n",
    "            if numero % div == 0:\n",
    "                primo = False\n",
    "            break\n",
    "        if primo:\n",
    "            print (numero, ' es primo')"
   ]
  },
  {
   "cell_type": "code",
   "execution_count": 1,
   "metadata": {},
   "outputs": [
    {
     "name": "stdout",
     "output_type": "stream",
     "text": [
      "108  es divisor\n",
      "120  es divisor\n",
      "132  es divisor\n",
      "144  es divisor\n",
      "156  es divisor\n",
      "168  es divisor\n",
      "180  es divisor\n",
      "192  es divisor\n",
      "204  es divisor\n",
      "216  es divisor\n",
      "228  es divisor\n",
      "240  es divisor\n",
      "252  es divisor\n",
      "264  es divisor\n",
      "276  es divisor\n",
      "288  es divisor\n"
     ]
    }
   ],
   "source": [
    "i = 100\n",
    "while i < 300:\n",
    "    if i%12 != 0:\n",
    "        i +=1\n",
    "        continue\n",
    "    print (i, ' es divisor')\n",
    "    i +=1\n"
   ]
  },
  {
   "cell_type": "code",
   "execution_count": 1,
   "metadata": {},
   "outputs": [],
   "source": [
    "i = 100\n",
    "while i <= 300:\n",
    "    if i % 3 !=0:\n",
    "        i+=1\n",
    "        break\n",
    "    if i % 2 !=0:\n",
    "        i+=1\n",
    "        break\n",
    "    print (i)\n",
    "    i+=1"
   ]
  },
  {
   "cell_type": "code",
   "execution_count": 1,
   "metadata": {},
   "outputs": [
    {
     "name": "stdout",
     "output_type": "stream",
     "text": [
      "1 es primo\n",
      "2 es primo\n",
      "3 es primo\n",
      "5 es primo\n"
     ]
    },
    {
     "ename": "ValueError",
     "evalue": "invalid literal for int() with base 10: ''",
     "output_type": "error",
     "traceback": [
      "\u001b[1;31m---------------------------------------------------------------------------\u001b[0m",
      "\u001b[1;31mValueError\u001b[0m                                Traceback (most recent call last)",
      "\u001b[1;32mc:\\Users\\Positivo\\Desktop\\Python-Prep\\M04_flujosdecontrol\\bucle.ipynb Cell 11\u001b[0m line \u001b[0;36m1\n\u001b[0;32m      <a href='vscode-notebook-cell:/c%3A/Users/Positivo/Desktop/Python-Prep/M04_flujosdecontrol/bucle.ipynb#X13sZmlsZQ%3D%3D?line=7'>8</a>\u001b[0m \u001b[39mif\u001b[39;00m primo:\n\u001b[0;32m      <a href='vscode-notebook-cell:/c%3A/Users/Positivo/Desktop/Python-Prep/M04_flujosdecontrol/bucle.ipynb#X13sZmlsZQ%3D%3D?line=8'>9</a>\u001b[0m     \u001b[39mprint\u001b[39m(numero, \u001b[39m'\u001b[39m\u001b[39mes primo\u001b[39m\u001b[39m'\u001b[39m)\n\u001b[1;32m---> <a href='vscode-notebook-cell:/c%3A/Users/Positivo/Desktop/Python-Prep/M04_flujosdecontrol/bucle.ipynb#X13sZmlsZQ%3D%3D?line=9'>10</a>\u001b[0m     seguir \u001b[39m=\u001b[39m \u001b[39mint\u001b[39;49m(\u001b[39minput\u001b[39;49m(\u001b[39m'\u001b[39;49m\u001b[39m¿Deseas buscar el siguiente número primo? (1 para continuar, 0 para salir): \u001b[39;49m\u001b[39m'\u001b[39;49m))\n\u001b[0;32m     <a href='vscode-notebook-cell:/c%3A/Users/Positivo/Desktop/Python-Prep/M04_flujosdecontrol/bucle.ipynb#X13sZmlsZQ%3D%3D?line=10'>11</a>\u001b[0m     \u001b[39mif\u001b[39;00m seguir \u001b[39m==\u001b[39m \u001b[39m0\u001b[39m:\n\u001b[0;32m     <a href='vscode-notebook-cell:/c%3A/Users/Positivo/Desktop/Python-Prep/M04_flujosdecontrol/bucle.ipynb#X13sZmlsZQ%3D%3D?line=11'>12</a>\u001b[0m         \u001b[39mprint\u001b[39m(\u001b[39m'\u001b[39m\u001b[39mFin del programa\u001b[39m\u001b[39m'\u001b[39m)\n",
      "\u001b[1;31mValueError\u001b[0m: invalid literal for int() with base 10: ''"
     ]
    }
   ],
   "source": [
    "numero = 1\n",
    "while True:\n",
    "    primo = True\n",
    "    for div in range(2, numero):\n",
    "        if numero % div == 0:\n",
    "            primo = False\n",
    "            break\n",
    "    if primo:\n",
    "        print(numero, 'es primo')\n",
    "        seguir = int(input('¿Deseas buscar el siguiente número primo? (1 para continuar, 0 para salir): '))\n",
    "        if seguir == 0:\n",
    "            print('Fin del programa')\n",
    "            break\n",
    "    numero += 1"
   ]
  },
  {
   "cell_type": "code",
   "execution_count": 2,
   "metadata": {},
   "outputs": [
    {
     "name": "stdout",
     "output_type": "stream",
     "text": [
      "2\n",
      "3\n",
      "5\n",
      "Entrada inválida. Ingresa un número entero válido.\n",
      "Entrada inválida. Ingresa un número entero válido.\n",
      "Entrada inválida. Ingresa un número entero válido.\n",
      "Entrada inválida. Ingresa un número entero válido.\n",
      "Entrada inválida. Ingresa un número entero válido.\n",
      "Entrada inválida. Ingresa un número entero válido.\n"
     ]
    }
   ],
   "source": [
    "while True:\n",
    "    entrada = input(\"Ingresa un número (o 'salir' para terminar): \")\n",
    "    if entrada == \"salir\":\n",
    "        break\n",
    "    try:\n",
    "        inicio = int(entrada)\n",
    "        fin = int(input(\"Ingresa el número final del rango: \"))\n",
    "        for numero in range(inicio, fin + 1):\n",
    "            if numero > 1:\n",
    "                es_primo = True\n",
    "                for divisor in range(2, numero):\n",
    "                    if numero % divisor == 0:\n",
    "                        es_primo = False\n",
    "                        break\n",
    "                if es_primo:\n",
    "                    print(numero)\n",
    "        buscar_siguiente = input(\"¿Deseas buscar el siguiente número primo? (s/n): \")\n",
    "        if buscar_siguiente.lower() == \"s\":\n",
    "            siguiente_primo = buscar_siguiente(fin)\n",
    "            print(f\"El siguiente número primo es: {siguiente_primo}\")\n",
    "    except ValueError:\n",
    "        print(\"Entrada inválida. Ingresa un número entero válido.\")"
   ]
  },
  {
   "cell_type": "code",
   "execution_count": 9,
   "metadata": {},
   "outputs": [
    {
     "ename": "SyntaxError",
     "evalue": "invalid syntax (2287958378.py, line 7)",
     "output_type": "error",
     "traceback": [
      "\u001b[1;36m  Cell \u001b[1;32mIn[9], line 7\u001b[1;36m\u001b[0m\n\u001b[1;33m    print(lista.index(int(=14)))\u001b[0m\n\u001b[1;37m                          ^\u001b[0m\n\u001b[1;31mSyntaxError\u001b[0m\u001b[1;31m:\u001b[0m invalid syntax\n"
     ]
    }
   ],
   "source": [
    "lista =[]\n",
    "i= -16\n",
    "while i <-1:\n",
    "    i+=1\n",
    "    lista.append(i)\n",
    "print(lista)\n"
   ]
  },
  {
   "cell_type": "code",
   "execution_count": 13,
   "metadata": {},
   "outputs": [
    {
     "name": "stdout",
     "output_type": "stream",
     "text": [
      "5\n",
      "4\n",
      "9\n",
      "2\n"
     ]
    }
   ],
   "source": [
    "lista = [5, 4, 9, 2]\n",
    "i = 0\n",
    "while i < len(lista):\n",
    "    elemento = lista[i]\n",
    "    print(elemento)\n",
    "    i += 1\n",
    "     \n"
   ]
  }
 ],
 "metadata": {
  "kernelspec": {
   "display_name": "Python 3",
   "language": "python",
   "name": "python3"
  },
  "language_info": {
   "codemirror_mode": {
    "name": "ipython",
    "version": 3
   },
   "file_extension": ".py",
   "mimetype": "text/x-python",
   "name": "python",
   "nbconvert_exporter": "python",
   "pygments_lexer": "ipython3",
   "version": "3.11.5"
  },
  "orig_nbformat": 4
 },
 "nbformat": 4,
 "nbformat_minor": 2
}
