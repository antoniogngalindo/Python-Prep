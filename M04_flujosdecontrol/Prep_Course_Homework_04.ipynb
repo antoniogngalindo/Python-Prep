{
 "cells": [
  {
   "attachments": {},
   "cell_type": "markdown",
   "metadata": {},
   "source": [
    "## Flujos de Control"
   ]
  },
  {
   "attachments": {},
   "cell_type": "markdown",
   "metadata": {},
   "source": [
    "1) Crear una variable que contenga un elemento del conjunto de números enteros y luego imprimir por pantalla si es mayor o menor a cero"
   ]
  },
  {
   "cell_type": "code",
   "execution_count": 6,
   "metadata": {},
   "outputs": [
    {
     "name": "stdout",
     "output_type": "stream",
     "text": [
      "5\n"
     ]
    }
   ],
   "source": [
    "var = 5\n",
    "if var > 0: #siempre poner los dos puntos\n",
    "    print (var)\n",
    "\n"
   ]
  },
  {
   "attachments": {},
   "cell_type": "markdown",
   "metadata": {},
   "source": [
    "2) Crear dos variables y un condicional que informe si son del mismo tipo de dato"
   ]
  },
  {
   "cell_type": "code",
   "execution_count": 8,
   "metadata": {},
   "outputs": [
    {
     "name": "stdout",
     "output_type": "stream",
     "text": [
      "son distintos\n"
     ]
    }
   ],
   "source": [
    "x = 3.5\n",
    "y = '3.5'\n",
    "if type(x)==type(y):\n",
    "    print ('son del mismo tipo')\n",
    "else:\n",
    "    print ('son distintos')\n"
   ]
  },
  {
   "attachments": {},
   "cell_type": "markdown",
   "metadata": {},
   "source": [
    "3) Para los valores enteros del 1 al 20, imprimir por pantalla si es par o impar"
   ]
  },
  {
   "cell_type": "code",
   "execution_count": 9,
   "metadata": {},
   "outputs": [
    {
     "name": "stdout",
     "output_type": "stream",
     "text": [
      "1 es impar\n",
      "2 es par\n",
      "3 es impar\n",
      "4 es par\n",
      "5 es impar\n",
      "6 es par\n",
      "7 es impar\n",
      "8 es par\n",
      "9 es impar\n",
      "10 es par\n",
      "11 es impar\n",
      "12 es par\n",
      "13 es impar\n",
      "14 es par\n",
      "15 es impar\n",
      "16 es par\n",
      "17 es impar\n",
      "18 es par\n",
      "19 es impar\n",
      "20 es par\n"
     ]
    }
   ],
   "source": [
    "for i in range (1,21):\n",
    "    if i%2 == 0:\n",
    "        print (i,'es par')\n",
    "    else:\n",
    "        print(i, 'es impar')"
   ]
  },
  {
   "attachments": {},
   "cell_type": "markdown",
   "metadata": {},
   "source": [
    "4) En un ciclo for mostrar para los valores entre 0 y 5 el resultado de elevarlo a la potencia igual a 3"
   ]
  },
  {
   "cell_type": "code",
   "execution_count": 12,
   "metadata": {},
   "outputs": [
    {
     "name": "stdout",
     "output_type": "stream",
     "text": [
      "0 elevado a 3 es igual a 0\n",
      "1 elevado a 3 es igual a 1\n",
      "2 elevado a 3 es igual a 8\n",
      "3 elevado a 3 es igual a 27\n",
      "4 elevado a 3 es igual a 64\n",
      "5 elevado a 3 es igual a 125\n"
     ]
    }
   ],
   "source": [
    "for var4 in range (0,6):\n",
    "       potencia =var4**3 \n",
    "       print (str(var4), \"elevado a 3 es igual a\", str(potencia))"
   ]
  },
  {
   "attachments": {},
   "cell_type": "markdown",
   "metadata": {},
   "source": [
    "5) Crear una variable que contenga un número entero y realizar un ciclo for la misma cantidad de ciclos"
   ]
  },
  {
   "cell_type": "code",
   "execution_count": 13,
   "metadata": {},
   "outputs": [
    {
     "name": "stdout",
     "output_type": "stream",
     "text": [
      "1\n",
      "2\n",
      "3\n",
      "4\n",
      "5\n"
     ]
    }
   ],
   "source": [
    "var5 = 5\n",
    "for i in range (1, (var5 + 1)):\n",
    "    print (i)"
   ]
  },
  {
   "attachments": {},
   "cell_type": "markdown",
   "metadata": {},
   "source": [
    "6) Utilizar un ciclo while para realizar el factorial de un número guardado en una variable, sólo si la variable contiene un número entero mayor a 0"
   ]
  },
  {
   "cell_type": "code",
   "execution_count": 35,
   "metadata": {},
   "outputs": [
    {
     "name": "stdout",
     "output_type": "stream",
     "text": [
      "el factorial es=  3628800\n"
     ]
    }
   ],
   "source": [
    "var6 = 10\n",
    "if (type(var6)== int): #definir tipo\n",
    "    if (var6 > 0): #condición 1 = hay que ser mayor que cero\n",
    "        factorial = var6 #nueva variable que contiene la var6\n",
    "        while (var6>2): #mientras el valor de la var6 sea mayor q 2\n",
    "            var6 -= 1 #será disminuida una unidad del que será guardada en la misma variable\n",
    "            factorial *= var6 # la nueva variable creada tendrá sua valor multiplicado por el valor de la variable var6 con su nuevo valor\n",
    "        print ('el factorial es= ', factorial) #hasta que llegue al dos\n",
    "    else:\n",
    "        print ('no es mayor que cero')\n",
    "else:\n",
    "    print ('no es inteiro')"
   ]
  },
  {
   "attachments": {},
   "cell_type": "markdown",
   "metadata": {},
   "source": [
    "7) Crear un ciclo for dentro de un ciclo while"
   ]
  },
  {
   "cell_type": "code",
   "execution_count": 5,
   "metadata": {},
   "outputs": [
    {
     "name": "stdout",
     "output_type": "stream",
     "text": [
      "valor de while=  1\n",
      "valor de for=  1\n",
      "valor de for=  2\n",
      "valor de for=  3\n",
      "valor de while=  2\n",
      "valor de for=  1\n",
      "valor de for=  2\n",
      "valor de for=  3\n",
      "valor de while=  3\n",
      "valor de for=  1\n",
      "valor de for=  2\n",
      "valor de for=  3\n",
      "valor de while=  4\n",
      "valor de for=  1\n",
      "valor de for=  2\n",
      "valor de for=  3\n",
      "valor de while=  5\n",
      "valor de for=  1\n",
      "valor de for=  2\n",
      "valor de for=  3\n",
      "valor de while=  6\n",
      "valor de for=  1\n",
      "valor de for=  2\n",
      "valor de for=  3\n"
     ]
    }
   ],
   "source": [
    "j = 0\n",
    "while ( j <= 5):\n",
    "    j +=1 \n",
    "    print ('valor de while= ', j)\n",
    "    for i in range (1, 4):\n",
    "        print ('valor de for= ', i)"
   ]
  },
  {
   "attachments": {},
   "cell_type": "markdown",
   "metadata": {},
   "source": [
    "8) Crear un ciclo while dentro de un ciclo for"
   ]
  },
  {
   "cell_type": "code",
   "execution_count": 3,
   "metadata": {},
   "outputs": [
    {
     "name": "stdout",
     "output_type": "stream",
     "text": [
      "valor de for é:  0\n",
      "valor de while é  5\n",
      "valor de while é  4\n",
      "valor de while é  3\n",
      "valor de while é  2\n",
      "valor de while é  1\n",
      "valor de while é  0\n",
      "valor de for é:  1\n",
      "valor de while é  5\n",
      "valor de while é  4\n",
      "valor de while é  3\n",
      "valor de while é  2\n",
      "valor de while é  1\n",
      "valor de for é:  2\n",
      "valor de while é  5\n",
      "valor de while é  4\n",
      "valor de while é  3\n",
      "valor de while é  2\n",
      "valor de for é:  3\n",
      "valor de while é  5\n",
      "valor de while é  4\n",
      "valor de while é  3\n",
      "valor de for é:  4\n",
      "valor de while é  5\n",
      "valor de while é  4\n"
     ]
    }
   ],
   "source": [
    "for i in range (0,5):\n",
    "    print ('valor de for é: ', i)\n",
    "    j = 5\n",
    "    while j>=i:\n",
    "        print ('valor de while é ', j)\n",
    "        j-=1"
   ]
  },
  {
   "attachments": {},
   "cell_type": "markdown",
   "metadata": {},
   "source": [
    "9) Imprimir los números primos existentes entre 0 y 30"
   ]
  },
  {
   "cell_type": "code",
   "execution_count": 8,
   "metadata": {},
   "outputs": [
    {
     "name": "stdout",
     "output_type": "stream",
     "text": [
      "1  es primo\n",
      "2  es primo\n",
      "3  es primo\n",
      "5  es primo\n",
      "7  es primo\n",
      "11  es primo\n",
      "13  es primo\n",
      "17  es primo\n",
      "19  es primo\n",
      "23  es primo\n",
      "29  es primo\n"
     ]
    }
   ],
   "source": [
    "for numero in range (0, 30): #variable definida desde cero hasta 29\n",
    "    numero += 1 #incremento de la variable en uno\n",
    "    if numero > 0: #condición de que si la variable es mayor 0\n",
    "        primo = True #ser primo es una verdad\n",
    "        div = 2 #define nueva variable\n",
    "        while div <= numero // 2 and primo: #mientras div sea la mitad (parte intera) de la variable numero, conituará division\n",
    "            if numero % div == 0: #si la división es igual a cero\n",
    "                primo = False #primo será falso\n",
    "            div += 1 #el divisor incrementa en un HAY QUE SER DESPUÉS DE LA NUEVA CONDICIÓN\n",
    "        if primo: # si despues de todo, continuar como primo, pedir para printar NO SE PUEDO USAR ELSE PORQUE QUITA LA CODICION ANTERIOR\n",
    "            print (numero, ' es primo')"
   ]
  },
  {
   "attachments": {},
   "cell_type": "markdown",
   "metadata": {},
   "source": [
    "10) ¿Se puede mejorar el proceso del punto 9? Utilizar las sentencias break y/ó continue para tal fin"
   ]
  },
  {
   "cell_type": "code",
   "execution_count": 9,
   "metadata": {},
   "outputs": [
    {
     "name": "stdout",
     "output_type": "stream",
     "text": [
      "1  es primo\n",
      "2  es primo\n",
      "3  es primo\n",
      "5  es primo\n",
      "7  es primo\n",
      "9  es primo\n",
      "11  es primo\n",
      "13  es primo\n",
      "15  es primo\n",
      "17  es primo\n",
      "19  es primo\n",
      "21  es primo\n",
      "23  es primo\n",
      "25  es primo\n",
      "27  es primo\n",
      "29  es primo\n"
     ]
    }
   ],
   "source": [
    "for numero in range (0, 30):\n",
    "    numero += 1\n",
    "    if numero >= 0:\n",
    "        primo = True\n",
    "        for div in range (2, numero):\n",
    "            if numero % div == 0:\n",
    "                primo = False\n",
    "            break\n",
    "        if primo:\n",
    "            print (numero, ' es primo')"
   ]
  },
  {
   "attachments": {},
   "cell_type": "markdown",
   "metadata": {},
   "source": [
    "11) En los puntos 9 y 10, se diseño un código que encuentra números primos y además se lo optimizó. ¿Es posible saber en qué medida se optimizó?"
   ]
  },
  {
   "cell_type": "code",
   "execution_count": null,
   "metadata": {},
   "outputs": [],
   "source": [
    "# mientras en el codigo 9 en la condicion while la variable div divide el numero hasta que alcance su mitad en numero de divisiones,\n",
    "# el codigo 10 intera la division entre 2 al mismo (numero-1) en de la variable numero y cuando encuentra una division que resulte en cero\n",
    "# el detiene el código y imprime\n",
    "# 271.43% optimizado"
   ]
  },
  {
   "cell_type": "code",
   "execution_count": 16,
   "metadata": {},
   "outputs": [
    {
     "name": "stdout",
     "output_type": "stream",
     "text": [
      "1  es primo\n",
      "2  es primo\n",
      "3  es primo\n",
      "5  es primo\n",
      "7  es primo\n",
      "11  es primo\n",
      "13  es primo\n",
      "17  es primo\n",
      "19  es primo\n",
      "23  es primo\n",
      "29  es primo\n",
      "76  ciclos\n"
     ]
    }
   ],
   "source": [
    "Ciclos9 = 0\n",
    "for numero in range (0, 30):\n",
    "    numero += 1\n",
    "    if numero >= 0:\n",
    "        primo = True\n",
    "        div = 2\n",
    "        while div <= numero // 2 and primo:\n",
    "            Ciclos9 += 1\n",
    "            if numero % div == 0:\n",
    "                primo = False\n",
    "            div += 1\n",
    "        if primo:\n",
    "            print (numero, ' es primo')\n",
    "print (Ciclos9, ' ciclos')"
   ]
  },
  {
   "cell_type": "code",
   "execution_count": 17,
   "metadata": {},
   "outputs": [
    {
     "name": "stdout",
     "output_type": "stream",
     "text": [
      "1  es primo\n",
      "2  es primo\n",
      "3  es primo\n",
      "5  es primo\n",
      "7  es primo\n",
      "9  es primo\n",
      "11  es primo\n",
      "13  es primo\n",
      "15  es primo\n",
      "17  es primo\n",
      "19  es primo\n",
      "21  es primo\n",
      "23  es primo\n",
      "25  es primo\n",
      "27  es primo\n",
      "29  es primo\n",
      "28  ciclos\n"
     ]
    }
   ],
   "source": [
    "Ciclos10 = 0\n",
    "for numero in range (0, 30):\n",
    "    numero += 1\n",
    "    if numero >= 0:\n",
    "        primo = True\n",
    "        for div in range (2, numero):\n",
    "            Ciclos10 += 1\n",
    "            if numero % div == 0:\n",
    "                primo = False\n",
    "            break\n",
    "        if primo:\n",
    "            print (numero, ' es primo')\n",
    "print (Ciclos10, ' ciclos')"
   ]
  },
  {
   "cell_type": "code",
   "execution_count": 21,
   "metadata": {},
   "outputs": [
    {
     "name": "stdout",
     "output_type": "stream",
     "text": [
      "271.42857142857144 % optimizado\n"
     ]
    }
   ],
   "source": [
    "print (str((Ciclos9/Ciclos10)*100) , '% optimizado')"
   ]
  },
  {
   "attachments": {},
   "cell_type": "markdown",
   "metadata": {},
   "source": [
    "12) Aplicando continue, armar un ciclo while que solo imprima los valores divisibles por 12, dentro del rango de números de 100 a 300"
   ]
  },
  {
   "cell_type": "code",
   "execution_count": 11,
   "metadata": {},
   "outputs": [
    {
     "name": "stdout",
     "output_type": "stream",
     "text": [
      "108  es divisor\n",
      "120  es divisor\n",
      "132  es divisor\n",
      "144  es divisor\n",
      "156  es divisor\n",
      "168  es divisor\n",
      "180  es divisor\n",
      "192  es divisor\n",
      "204  es divisor\n",
      "216  es divisor\n",
      "228  es divisor\n",
      "240  es divisor\n",
      "252  es divisor\n",
      "264  es divisor\n",
      "276  es divisor\n",
      "288  es divisor\n"
     ]
    }
   ],
   "source": [
    "i = 100 #definida variable inical\n",
    "while i < 300: #condición que el ciclo se encierra el 300\n",
    "    if i%12 != 0: #si la variable no obtener resta igual a cero\n",
    "        i +=1 #salta para el proximo numero sin imprimirlo\n",
    "        continue\n",
    "    print (i, ' es divisor') # si pasa de esta condicion es imprimida\n",
    "    i +=1 #y luego es incrementado +1"
   ]
  },
  {
   "attachments": {},
   "cell_type": "markdown",
   "metadata": {},
   "source": [
    "13) Utilizar la función **input()** que permite hacer ingresos por teclado, para encontrar números primos y dar la opción al usario de buscar el siguiente"
   ]
  },
  {
   "cell_type": "code",
   "execution_count": 3,
   "metadata": {},
   "outputs": [
    {
     "name": "stdout",
     "output_type": "stream",
     "text": [
      "1 es primo\n"
     ]
    },
    {
     "name": "stdout",
     "output_type": "stream",
     "text": [
      "2 es primo\n",
      "3 es primo\n",
      "4 no es primo\n",
      "5 es primo\n",
      "Fin del programa\n"
     ]
    }
   ],
   "source": [
    "numero = 1\n",
    "while True:\n",
    "    primo = True\n",
    "    for div in range(2, numero):\n",
    "        if numero % div == 0:\n",
    "            primo = False\n",
    "            break\n",
    "    if primo:\n",
    "        print(numero, 'es primo')\n",
    "    else:\n",
    "        print(numero, 'no es primo')\n",
    "    seguir = input(\"¿Deseas buscar el siguiente número primo? (Escribe 'salir' para terminar): \")\n",
    "    if seguir.lower() == \"salir\":\n",
    "        print('Fin del programa')\n",
    "        break\n",
    "    numero += 1"
   ]
  },
  {
   "attachments": {},
   "cell_type": "markdown",
   "metadata": {},
   "source": [
    "14) Crear un ciclo while que encuentre dentro del rango de 100 a 300 el primer número divisible por 3 y además múltiplo de 6"
   ]
  },
  {
   "cell_type": "code",
   "execution_count": 31,
   "metadata": {},
   "outputs": [
    {
     "name": "stdout",
     "output_type": "stream",
     "text": [
      "102 es divisor de 3 y multiplo de 6\n"
     ]
    }
   ],
   "source": [
    "i = 100\n",
    "while i <= 300:\n",
    "    if i % 6 ==0:\n",
    "        print (i, \"es divisor de 3 y multiplo de 6\")\n",
    "        break\n",
    "    i+=1\n"
   ]
  }
 ],
 "metadata": {
  "interpreter": {
   "hash": "c85384e4cb51c8b72350f3a8712cc8351fdc3955e32a27f9b60c6242ab125f01"
  },
  "kernelspec": {
   "display_name": "Python 3 (ipykernel)",
   "language": "python",
   "name": "python3"
  },
  "language_info": {
   "codemirror_mode": {
    "name": "ipython",
    "version": 3
   },
   "file_extension": ".py",
   "mimetype": "text/x-python",
   "name": "python",
   "nbconvert_exporter": "python",
   "pygments_lexer": "ipython3",
   "version": "3.11.5"
  }
 },
 "nbformat": 4,
 "nbformat_minor": 4
}
